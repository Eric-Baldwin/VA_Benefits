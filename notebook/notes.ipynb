{
 "cells": [
  {
   "cell_type": "code",
   "execution_count": 6,
   "metadata": {},
   "outputs": [],
   "source": [
    "import pandas as pd"
   ]
  },
  {
   "cell_type": "code",
   "execution_count": 7,
   "metadata": {},
   "outputs": [
    {
     "data": {
      "text/html": [
       "<div>\n",
       "<style scoped>\n",
       "    .dataframe tbody tr th:only-of-type {\n",
       "        vertical-align: middle;\n",
       "    }\n",
       "\n",
       "    .dataframe tbody tr th {\n",
       "        vertical-align: top;\n",
       "    }\n",
       "\n",
       "    .dataframe thead th {\n",
       "        text-align: right;\n",
       "    }\n",
       "</style>\n",
       "<table border=\"1\" class=\"dataframe\">\n",
       "  <thead>\n",
       "    <tr style=\"text-align: right;\">\n",
       "      <th></th>\n",
       "      <th>State Name</th>\n",
       "      <th>Percent of Veterans who used VA Health Care</th>\n",
       "      <th>Number of VA Health Care Patients</th>\n",
       "      <th>Veteran Population</th>\n",
       "      <th>Year</th>\n",
       "    </tr>\n",
       "  </thead>\n",
       "  <tbody>\n",
       "    <tr>\n",
       "      <th>0</th>\n",
       "      <td>Alabama</td>\n",
       "      <td>0.2461</td>\n",
       "      <td>101374</td>\n",
       "      <td>411844.53560</td>\n",
       "      <td>2010</td>\n",
       "    </tr>\n",
       "    <tr>\n",
       "      <th>1</th>\n",
       "      <td>Alabama</td>\n",
       "      <td>0.2611</td>\n",
       "      <td>105184</td>\n",
       "      <td>402853.71460</td>\n",
       "      <td>2011</td>\n",
       "    </tr>\n",
       "    <tr>\n",
       "      <th>2</th>\n",
       "      <td>Alabama</td>\n",
       "      <td>0.2672</td>\n",
       "      <td>105800</td>\n",
       "      <td>395992.37850</td>\n",
       "      <td>2012</td>\n",
       "    </tr>\n",
       "    <tr>\n",
       "      <th>3</th>\n",
       "      <td>Alabama</td>\n",
       "      <td>0.2742</td>\n",
       "      <td>106880</td>\n",
       "      <td>389780.06430</td>\n",
       "      <td>2013</td>\n",
       "    </tr>\n",
       "    <tr>\n",
       "      <th>4</th>\n",
       "      <td>Alabama</td>\n",
       "      <td>0.2858</td>\n",
       "      <td>110178</td>\n",
       "      <td>385510.64080</td>\n",
       "      <td>2014</td>\n",
       "    </tr>\n",
       "    <tr>\n",
       "      <th>5</th>\n",
       "      <td>Alabama</td>\n",
       "      <td>0.2913</td>\n",
       "      <td>109912</td>\n",
       "      <td>377310.39450</td>\n",
       "      <td>2015</td>\n",
       "    </tr>\n",
       "    <tr>\n",
       "      <th>6</th>\n",
       "      <td>Alaska</td>\n",
       "      <td>0.1990</td>\n",
       "      <td>15106</td>\n",
       "      <td>75896.97603</td>\n",
       "      <td>2010</td>\n",
       "    </tr>\n",
       "    <tr>\n",
       "      <th>7</th>\n",
       "      <td>Alaska</td>\n",
       "      <td>0.2066</td>\n",
       "      <td>16042</td>\n",
       "      <td>77641.05669</td>\n",
       "      <td>2011</td>\n",
       "    </tr>\n",
       "    <tr>\n",
       "      <th>8</th>\n",
       "      <td>Alaska</td>\n",
       "      <td>0.2256</td>\n",
       "      <td>16932</td>\n",
       "      <td>75055.52190</td>\n",
       "      <td>2012</td>\n",
       "    </tr>\n",
       "    <tr>\n",
       "      <th>9</th>\n",
       "      <td>Alaska</td>\n",
       "      <td>0.2350</td>\n",
       "      <td>17814</td>\n",
       "      <td>75811.98468</td>\n",
       "      <td>2013</td>\n",
       "    </tr>\n",
       "  </tbody>\n",
       "</table>\n",
       "</div>"
      ],
      "text/plain": [
       "  State Name  Percent of Veterans who used VA Health Care  \\\n",
       "0    Alabama                                       0.2461   \n",
       "1    Alabama                                       0.2611   \n",
       "2    Alabama                                       0.2672   \n",
       "3    Alabama                                       0.2742   \n",
       "4    Alabama                                       0.2858   \n",
       "5    Alabama                                       0.2913   \n",
       "6     Alaska                                       0.1990   \n",
       "7     Alaska                                       0.2066   \n",
       "8     Alaska                                       0.2256   \n",
       "9     Alaska                                       0.2350   \n",
       "\n",
       "   Number of VA Health Care Patients  Veteran Population  Year  \n",
       "0                             101374        411844.53560  2010  \n",
       "1                             105184        402853.71460  2011  \n",
       "2                             105800        395992.37850  2012  \n",
       "3                             106880        389780.06430  2013  \n",
       "4                             110178        385510.64080  2014  \n",
       "5                             109912        377310.39450  2015  \n",
       "6                              15106         75896.97603  2010  \n",
       "7                              16042         77641.05669  2011  \n",
       "8                              16932         75055.52190  2012  \n",
       "9                              17814         75811.98468  2013  "
      ]
     },
     "execution_count": 7,
     "metadata": {},
     "output_type": "execute_result"
    }
   ],
   "source": [
    "file_path = '/home/eric_baldwin/ddiMain/midterm/VA_Benefits/data/VA.csv'\n",
    "\n",
    "df=pd.read_csv(file_path)\n",
    "\n",
    "df.head(10)"
   ]
  },
  {
   "cell_type": "code",
   "execution_count": 8,
   "metadata": {},
   "outputs": [
    {
     "name": "stdout",
     "output_type": "stream",
     "text": [
      "(312, 5)\n"
     ]
    }
   ],
   "source": [
    "df_shape = df.shape\n",
    "print(df_shape)"
   ]
  },
  {
   "cell_type": "code",
   "execution_count": 11,
   "metadata": {},
   "outputs": [
    {
     "name": "stdout",
     "output_type": "stream",
     "text": [
      "State Name                                      object\n",
      "Percent of Veterans who used VA Health Care    float64\n",
      "Number of VA Health Care Patients                int64\n",
      "Veteran Population                             float64\n",
      "Year                                             int64\n",
      "dtype: object\n"
     ]
    }
   ],
   "source": [
    "data_types = df.dtypes\n",
    "print(data_types)\n"
   ]
  },
  {
   "cell_type": "code",
   "execution_count": 12,
   "metadata": {},
   "outputs": [
    {
     "name": "stdout",
     "output_type": "stream",
     "text": [
      "['State Name']\n"
     ]
    }
   ],
   "source": [
    "categorical_fields = data_types[data_types == 'object'].index.tolist()\n",
    "print(categorical_fields)\n"
   ]
  },
  {
   "cell_type": "code",
   "execution_count": 13,
   "metadata": {},
   "outputs": [
    {
     "name": "stdout",
     "output_type": "stream",
     "text": [
      "['Percent of Veterans who used VA Health Care', 'Number of VA Health Care Patients', 'Veteran Population', 'Year']\n"
     ]
    }
   ],
   "source": [
    "quantitative_fields = data_types[data_types != 'object'].index.tolist()\n",
    "print(quantitative_fields)"
   ]
  },
  {
   "cell_type": "code",
   "execution_count": 15,
   "metadata": {},
   "outputs": [
    {
     "name": "stdout",
     "output_type": "stream",
     "text": [
      "State Name                                     0\n",
      "Percent of Veterans who used VA Health Care    0\n",
      "Number of VA Health Care Patients              0\n",
      "Veteran Population                             0\n",
      "Year                                           0\n",
      "dtype: int64\n"
     ]
    }
   ],
   "source": [
    "missing_data = df.isnull().sum()\n",
    "print(missing_data)"
   ]
  }
 ],
 "metadata": {
  "kernelspec": {
   "display_name": "base",
   "language": "python",
   "name": "python3"
  },
  "language_info": {
   "codemirror_mode": {
    "name": "ipython",
    "version": 3
   },
   "file_extension": ".py",
   "mimetype": "text/x-python",
   "name": "python",
   "nbconvert_exporter": "python",
   "pygments_lexer": "ipython3",
   "version": "3.10.14"
  }
 },
 "nbformat": 4,
 "nbformat_minor": 2
}
